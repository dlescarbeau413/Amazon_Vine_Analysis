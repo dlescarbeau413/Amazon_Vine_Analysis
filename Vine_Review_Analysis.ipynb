{
  "cells": [
    {
      "cell_type": "code",
      "execution_count": null,
      "metadata": {
        "colab": {
          "base_uri": "https://localhost:8080/"
        },
        "id": "Ltzmw5PxPZsb",
        "outputId": "873f365e-c512-4a01-d1da-a94a37790508"
      },
      "outputs": [
        {
          "output_type": "stream",
          "name": "stdout",
          "text": [
            "\r0% [Working]\r            \rHit:1 http://ppa.launchpad.net/c2d4u.team/c2d4u4.0+/ubuntu bionic InRelease\n",
            "\r0% [Connecting to archive.ubuntu.com (91.189.88.142)] [Waiting for headers] [Co\r                                                                               \rHit:2 http://archive.ubuntu.com/ubuntu bionic InRelease\n",
            "\r                                                                               \rGet:3 http://archive.ubuntu.com/ubuntu bionic-updates InRelease [88.7 kB]\n",
            "\r                                                                               \rGet:4 http://security.ubuntu.com/ubuntu bionic-security InRelease [88.7 kB]\n",
            "\r                                                                               \rHit:5 http://ppa.launchpad.net/cran/libgit2/ubuntu bionic InRelease\n",
            "\r                                                                               \rHit:6 http://ppa.launchpad.net/deadsnakes/ppa/ubuntu bionic InRelease\n",
            "\r                                                                               \rGet:7 http://ppa.launchpad.net/graphics-drivers/ppa/ubuntu bionic InRelease [21.3 kB]\n",
            "\r0% [3 InRelease 47.5 kB/88.7 kB 54%] [Connected to cloud.r-project.org (65.9.78\r0% [1 InRelease gpgv 15.9 kB] [3 InRelease 59.1 kB/88.7 kB 67%] [Connected to c\r0% [1 InRelease gpgv 15.9 kB] [3 InRelease 67.8 kB/88.7 kB 76%] [Connected to c\r0% [1 InRelease gpgv 15.9 kB] [Waiting for headers] [Waiting for headers] [Wait\r                                                                               \rGet:8 https://cloud.r-project.org/bin/linux/ubuntu bionic-cran40/ InRelease [3,626 B]\n",
            "Get:9 http://archive.ubuntu.com/ubuntu bionic-backports InRelease [74.6 kB]\n",
            "Ign:10 https://developer.download.nvidia.com/compute/cuda/repos/ubuntu1804/x86_64  InRelease\n",
            "Ign:11 https://developer.download.nvidia.com/compute/machine-learning/repos/ubuntu1804/x86_64  InRelease\n",
            "Get:12 https://developer.download.nvidia.com/compute/cuda/repos/ubuntu1804/x86_64  Release [696 B]\n",
            "Hit:13 https://developer.download.nvidia.com/compute/machine-learning/repos/ubuntu1804/x86_64  Release\n",
            "Get:14 https://developer.download.nvidia.com/compute/cuda/repos/ubuntu1804/x86_64  Release.gpg [836 B]\n",
            "Get:15 http://security.ubuntu.com/ubuntu bionic-security/main amd64 Packages [2,544 kB]\n",
            "Get:16 http://security.ubuntu.com/ubuntu bionic-security/universe amd64 Packages [1,466 kB]\n",
            "Get:17 http://security.ubuntu.com/ubuntu bionic-security/restricted amd64 Packages [760 kB]\n",
            "Get:18 http://ppa.launchpad.net/graphics-drivers/ppa/ubuntu bionic/main amd64 Packages [42.8 kB]\n",
            "Get:19 http://archive.ubuntu.com/ubuntu bionic-updates/main amd64 Packages [2,986 kB]\n",
            "Get:20 http://archive.ubuntu.com/ubuntu bionic-updates/universe amd64 Packages [2,244 kB]\n",
            "Get:22 https://developer.download.nvidia.com/compute/cuda/repos/ubuntu1804/x86_64  Packages [917 kB]\n",
            "Fetched 11.2 MB in 5s (2,323 kB/s)\n",
            "Reading package lists... Done\n"
          ]
        }
      ],
      "source": [
        "import os\n",
        "# Find the latest version of spark 3.0 from http://www.apache.org/dist/spark/ and enter as the spark version\n",
        "# For example:\n",
        "# spark_version = 'spark-3.0.3'\n",
        "spark_version = 'spark-3.0.3'\n",
        "os.environ['SPARK_VERSION']=spark_version\n",
        "\n",
        "# Install Spark and Java\n",
        "!apt-get update\n",
        "!apt-get install openjdk-11-jdk-headless -qq > /dev/null\n",
        "!wget -q http://www.apache.org/dist/spark/$SPARK_VERSION/$SPARK_VERSION-bin-hadoop2.7.tgz\n",
        "!tar xf $SPARK_VERSION-bin-hadoop2.7.tgz\n",
        "!pip install -q findspark\n",
        "\n",
        "# Set Environment Variables\n",
        "import os\n",
        "os.environ[\"JAVA_HOME\"] = \"/usr/lib/jvm/java-11-openjdk-amd64\"\n",
        "os.environ[\"SPARK_HOME\"] = f\"/content/{spark_version}-bin-hadoop2.7\"\n",
        "\n",
        "# Start a SparkSession\n",
        "import findspark\n",
        "findspark.init()"
      ]
    },
    {
      "cell_type": "code",
      "execution_count": null,
      "metadata": {
        "id": "CEBPa8i7Px1I"
      },
      "outputs": [],
      "source": [
        "from pyspark.sql import SparkSession\n",
        "spark = SparkSession.builder.appName(\"M16-Amazon-Challenge-Vine-Review\").getOrCreate()"
      ]
    },
    {
      "cell_type": "code",
      "execution_count": null,
      "metadata": {
        "colab": {
          "base_uri": "https://localhost:8080/"
        },
        "id": "wfYUNvpNP8Fn",
        "outputId": "d2740969-7cfb-4f24-f2fe-7c9c77cb3317"
      },
      "outputs": [
        {
          "output_type": "stream",
          "name": "stdout",
          "text": [
            "+-----------+-----------+--------------+----------+--------------+--------------------+----------------+-----------+-------------+-----------+----+-----------------+--------------------+--------------------+-----------+\n",
            "|marketplace|customer_id|     review_id|product_id|product_parent|       product_title|product_category|star_rating|helpful_votes|total_votes|vine|verified_purchase|     review_headline|         review_body|review_date|\n",
            "+-----------+-----------+--------------+----------+--------------+--------------------+----------------+-----------+-------------+-----------+----+-----------------+--------------------+--------------------+-----------+\n",
            "|         US|   48945260|R1WBPB8MDCCN8F|B012P7UPSM|     409940130|Chicago Blackhawk...|          Sports|          5|            0|          0|   N|                N|   LOVE IT. 6 stars!|Bought this last ...| 2015-08-31|\n",
            "|         US|    5782091|R32M0YEWV77XG8|B001GQ3VHG|     657746679|Copag Poker Size ...|          Sports|          5|            1|          1|   N|                Y|       Shipped fast.|These are the bes...| 2015-08-31|\n",
            "|         US|   45813853| RR8V7WR27NXJ5|B008VS8M58|     962442336|Baoer 223 5.56x45...|          Sports|          1|            0|          0|   N|                Y|Good idea if it w...|It looks good, th...| 2015-08-31|\n",
            "|         US|    1593730|R1MHO5V9Z932AY|B005F06F4U|      74305227|All Terrain Tackl...|          Sports|          5|            0|          0|   N|                Y|          Five Stars|           Great jig| 2015-08-31|\n",
            "|         US|   29605511|R16PD71086BD2V|B010T4IE2C|     787185588|Swim Cap - 3 Pack...|          Sports|          5|            0|          1|   N|                N|Great quality sil...|I love swimming i...| 2015-08-31|\n",
            "|         US|   11112959|R1Z8IFGWTRWXT6|B004RKJGLS|      94127483|adidas Men's Spor...|          Sports|          3|            0|          0|   N|                Y|Love everything a...|Love everything a...| 2015-08-31|\n",
            "|         US|     108031|R3AUMSHAW73HWN|B005V3DCBU|     526977496|Nike Men's Perfor...|          Sports|          4|            2|          3|   N|                N|          Four Stars|not the best sock...| 2015-08-31|\n",
            "|         US|   13981540|R2KWDWFOHGX6FL|B00MHT9WN8|      26521265|Green Bay Packers...|          Sports|          5|            0|          0|   N|                Y|          Five Stars|             Love it| 2015-08-31|\n",
            "|         US|   37993909|R3H9543FWBWFBU|B001CSIRQ8|     652431165|Isokinetics Inc. ...|          Sports|          5|            1|          1|   N|                Y|can't wait to use it|Unfortunately I h...| 2015-08-31|\n",
            "|         US|   26040213| RUANXOQ9W3OU5|B001KZ3NOO|     635861713|Aottop Quality El...|          Sports|          5|            0|          0|   N|                Y|great product, ac...|fast shipping , g...| 2015-08-31|\n",
            "|         US|   34657602|R31673RTGEZSW7|B00005RCQS|      72099763|Everlast 2'x6' Fo...|          Sports|          5|            2|          2|   N|                Y|this mat is a pre...|If you have a ter...| 2015-08-31|\n",
            "|         US|   14346192|R22OQLFSH42RCM|B00FA7RWVI|     757354022|OGIO Men's Shredd...|          Sports|          5|            1|          1|   N|                Y|  Versatile Golf Bag|Love this golf ba...| 2015-08-31|\n",
            "|         US|   38782687|R12LEL4F3TSZUJ|B000MMH2HU|     272402599|Blue Sea Systems ...|          Sports|          5|            2|          2|   N|                Y|Great AC Main Bre...|Perfect mounting ...| 2015-08-31|\n",
            "|         US|   27138575|R2L9XWD03072NI|B00WJOATDS|     375070208|Zengi AR15 45 Deg...|          Sports|          5|            1|          2|   N|                Y|   Nice, some quirks|For the cost you ...| 2015-08-31|\n",
            "|         US|   11838771|R2K0U91HIACANO|B00BOM2JNY|     639666785|Black Mountain Pr...|          Sports|          5|            0|          0|   N|                N|55 cm - Good qual...|The ball is very ...| 2015-08-31|\n",
            "|         US|     535800|R29SP6MBT7MXG7|B00OD5GAFM|      38715442|Trijicon VCOG 1-6...|          Sports|          4|            3|          3|   N|                Y|    Very nice scope.|Very nice scope.....| 2015-08-31|\n",
            "|         US|   23156579|R31XREAAMATEPY|B00CAHDC1K|      57088652|Naruto Headband f...|          Sports|          5|            0|          0|   N|                Y|was for my son an...|           This item| 2015-08-31|\n",
            "|         US|   48107879|R2116AVB87SO38|B004NLHXLG|     114125984|Under Armour Men'...|          Sports|          5|            0|          0|   N|                Y|          Five Stars|greatest socks i ...| 2015-08-31|\n",
            "|         US|   27260960|R3RDVBB6O0X3HW|B00L7OANWI|     883962979|Yes4All Deep Tiss...|          Sports|          5|            0|          0|   N|                Y|          Five Stars|Perfect for home ...| 2015-08-31|\n",
            "|         US|   39537314|R3LW5T149LKKQM|B0085PPSIQ|     691479969|Lansky PS-MED01 B...|          Sports|          4|            0|          0|   N|                Y|A bit heavy for p...|Very good product...| 2015-08-31|\n",
            "+-----------+-----------+--------------+----------+--------------+--------------------+----------------+-----------+-------------+-----------+----+-----------------+--------------------+--------------------+-----------+\n",
            "only showing top 20 rows\n",
            "\n"
          ]
        }
      ],
      "source": [
        "from pyspark import SparkFiles\n",
        "url = \"https://s3.amazonaws.com/amazon-reviews-pds/tsv/amazon_reviews_us_Sports_v1_00.tsv.gz\"\n",
        "spark.sparkContext.addFile(url)\n",
        "df = spark.read.option(\"encoding\", \"UTF-8\").csv(SparkFiles.get(\"amazon_reviews_us_Sports_v1_00.tsv.gz\"), sep=\"\\t\", header=True, inferSchema=True)\n",
        "df.show()"
      ]
    },
    {
      "cell_type": "code",
      "execution_count": null,
      "metadata": {
        "id": "TsdEGf1pQfXn"
      },
      "outputs": [],
      "source": [
        "# Create the vine_table. DataFrame\n",
        "vine_df = df.select([\"review_id\", \"star_rating\", \"helpful_votes\", \"total_votes\", \"vine\", 'verified_purchase'])"
      ]
    },
    {
      "cell_type": "code",
      "execution_count": null,
      "metadata": {
        "colab": {
          "base_uri": "https://localhost:8080/"
        },
        "id": "OR_Axwy4Qg3C",
        "outputId": "e59579d4-45d2-4595-88f0-a4253f7e2dbc"
      },
      "outputs": [
        {
          "output_type": "stream",
          "name": "stdout",
          "text": [
            "+--------------+-----------+-------------+-----------+----+-----------------+\n",
            "|     review_id|star_rating|helpful_votes|total_votes|vine|verified_purchase|\n",
            "+--------------+-----------+-------------+-----------+----+-----------------+\n",
            "|R1WBPB8MDCCN8F|          5|            0|          0|   N|                N|\n",
            "|R32M0YEWV77XG8|          5|            1|          1|   N|                Y|\n",
            "| RR8V7WR27NXJ5|          1|            0|          0|   N|                Y|\n",
            "|R1MHO5V9Z932AY|          5|            0|          0|   N|                Y|\n",
            "|R16PD71086BD2V|          5|            0|          1|   N|                N|\n",
            "|R1Z8IFGWTRWXT6|          3|            0|          0|   N|                Y|\n",
            "|R3AUMSHAW73HWN|          4|            2|          3|   N|                N|\n",
            "|R2KWDWFOHGX6FL|          5|            0|          0|   N|                Y|\n",
            "|R3H9543FWBWFBU|          5|            1|          1|   N|                Y|\n",
            "| RUANXOQ9W3OU5|          5|            0|          0|   N|                Y|\n",
            "|R31673RTGEZSW7|          5|            2|          2|   N|                Y|\n",
            "|R22OQLFSH42RCM|          5|            1|          1|   N|                Y|\n",
            "|R12LEL4F3TSZUJ|          5|            2|          2|   N|                Y|\n",
            "|R2L9XWD03072NI|          5|            1|          2|   N|                Y|\n",
            "|R2K0U91HIACANO|          5|            0|          0|   N|                N|\n",
            "|R29SP6MBT7MXG7|          4|            3|          3|   N|                Y|\n",
            "|R31XREAAMATEPY|          5|            0|          0|   N|                Y|\n",
            "|R2116AVB87SO38|          5|            0|          0|   N|                Y|\n",
            "|R3RDVBB6O0X3HW|          5|            0|          0|   N|                Y|\n",
            "|R3LW5T149LKKQM|          4|            0|          0|   N|                Y|\n",
            "+--------------+-----------+-------------+-----------+----+-----------------+\n",
            "only showing top 20 rows\n",
            "\n"
          ]
        }
      ],
      "source": [
        "vine_df.show()"
      ]
    },
    {
      "cell_type": "code",
      "execution_count": null,
      "metadata": {
        "id": "Txj16Ls4QkDy"
      },
      "outputs": [],
      "source": [
        "vote_total = vine_df.filter(vine_df.total_votes>=20)"
      ]
    },
    {
      "cell_type": "code",
      "source": [
        "#total number of products that have 20 or more votes\n",
        "total_count = vote_total.count()\n",
        "total_count"
      ],
      "metadata": {
        "colab": {
          "base_uri": "https://localhost:8080/"
        },
        "id": "iS3biuaAV-eP",
        "outputId": "3d8574f1-800c-400d-edbc-ce8b7a80ad4d"
      },
      "execution_count": 93,
      "outputs": [
        {
          "output_type": "execute_result",
          "data": {
            "text/plain": [
              "67855"
            ]
          },
          "metadata": {},
          "execution_count": 93
        }
      ]
    },
    {
      "cell_type": "code",
      "execution_count": null,
      "metadata": {
        "colab": {
          "base_uri": "https://localhost:8080/"
        },
        "id": "4Ll1PaIGRwgS",
        "outputId": "7a124289-ebaa-4990-93bb-6d3c2413a722"
      },
      "outputs": [
        {
          "output_type": "stream",
          "name": "stdout",
          "text": [
            "+--------------+-----------+-------------+-----------+----+-----------------+\n",
            "|     review_id|star_rating|helpful_votes|total_votes|vine|verified_purchase|\n",
            "+--------------+-----------+-------------+-----------+----+-----------------+\n",
            "|R1B4753QMTD8ON|          5|           32|         32|   N|                N|\n",
            "|R28BVHOEL6GCHZ|          5|           21|         21|   N|                Y|\n",
            "|R27IB4BRKO71I0|          2|           16|         20|   N|                Y|\n",
            "| RJ86OW12Y4NRL|          5|          124|        128|   N|                Y|\n",
            "|R3KRABOWCH6ZE4|          1|           48|         65|   N|                Y|\n",
            "|R1OAKARA30DIWX|          4|           83|         89|   N|                Y|\n",
            "|R36LSV4WQ4VB1K|          5|           17|         22|   N|                N|\n",
            "|R18BTOE5UGN7UA|          5|           26|         28|   N|                Y|\n",
            "|R1DXLGDSK2WMLD|          4|           22|         22|   N|                N|\n",
            "| RZG2OHQ12YYZI|          5|           30|         31|   N|                Y|\n",
            "|R1ZPBQCT4DYE4Z|          1|           45|         51|   N|                Y|\n",
            "|R16KLPJUNC9GS7|          5|           20|         21|   N|                Y|\n",
            "|R3Q0414UJO4BDO|          1|           23|         28|   N|                Y|\n",
            "| RDHDT1Z4R8IOF|          1|           18|         20|   N|                Y|\n",
            "|R10BO7KWZNBGL1|          4|           23|         24|   N|                Y|\n",
            "|R1H6DQ1UXL6K8U|          5|           86|         97|   N|                N|\n",
            "|R32OMS1LSDRCOB|          4|           27|         31|   Y|                N|\n",
            "|R1ABJ5P5XAZ9AW|          5|          174|        187|   N|                N|\n",
            "|R2RRFZ2YFSJ2OF|          5|           27|         27|   N|                Y|\n",
            "|R19G3LWRFBHDX3|          1|            4|         42|   N|                Y|\n",
            "+--------------+-----------+-------------+-----------+----+-----------------+\n",
            "only showing top 20 rows\n",
            "\n"
          ]
        }
      ],
      "source": [
        "vote_total.show()"
      ]
    },
    {
      "cell_type": "code",
      "execution_count": 40,
      "metadata": {
        "id": "0L621fQjWACC"
      },
      "outputs": [],
      "source": [
        "from pyspark.sql.functions import round,concat, col, lit\n"
      ]
    },
    {
      "cell_type": "code",
      "execution_count": 41,
      "metadata": {
        "id": "kanHHxThS489"
      },
      "outputs": [],
      "source": [
        "helpful_votes_percentage_df = vote_total.withColumn('helpful_votes_percentage' , round(vote_total['helpful_votes']/vote_total['total_votes']*100,2))\n"
      ]
    },
    {
      "cell_type": "code",
      "execution_count": 38,
      "metadata": {
        "colab": {
          "base_uri": "https://localhost:8080/"
        },
        "id": "GYnyQgDuTkqe",
        "outputId": "5b7da9f8-cea1-49ec-a8de-f80f5e38f998"
      },
      "outputs": [
        {
          "output_type": "stream",
          "name": "stdout",
          "text": [
            "+--------------+-----------+-------------+-----------+----+-----------------+---+------------------------+\n",
            "|     review_id|star_rating|helpful_votes|total_votes|vine|verified_purchase|  %|helpful_votes_percentage|\n",
            "+--------------+-----------+-------------+-----------+----+-----------------+---+------------------------+\n",
            "|R1B4753QMTD8ON|          5|           32|         32|   N|                N|  %|                   100.0|\n",
            "|R28BVHOEL6GCHZ|          5|           21|         21|   N|                Y|  %|                   100.0|\n",
            "|R27IB4BRKO71I0|          2|           16|         20|   N|                Y|  %|                    80.0|\n",
            "| RJ86OW12Y4NRL|          5|          124|        128|   N|                Y|  %|                   96.88|\n",
            "|R3KRABOWCH6ZE4|          1|           48|         65|   N|                Y|  %|                   73.85|\n",
            "|R1OAKARA30DIWX|          4|           83|         89|   N|                Y|  %|                   93.26|\n",
            "|R36LSV4WQ4VB1K|          5|           17|         22|   N|                N|  %|                   77.27|\n",
            "|R18BTOE5UGN7UA|          5|           26|         28|   N|                Y|  %|                   92.86|\n",
            "|R1DXLGDSK2WMLD|          4|           22|         22|   N|                N|  %|                   100.0|\n",
            "| RZG2OHQ12YYZI|          5|           30|         31|   N|                Y|  %|                   96.77|\n",
            "|R1ZPBQCT4DYE4Z|          1|           45|         51|   N|                Y|  %|                   88.24|\n",
            "|R16KLPJUNC9GS7|          5|           20|         21|   N|                Y|  %|                   95.24|\n",
            "|R3Q0414UJO4BDO|          1|           23|         28|   N|                Y|  %|                   82.14|\n",
            "| RDHDT1Z4R8IOF|          1|           18|         20|   N|                Y|  %|                    90.0|\n",
            "|R10BO7KWZNBGL1|          4|           23|         24|   N|                Y|  %|                   95.83|\n",
            "|R1H6DQ1UXL6K8U|          5|           86|         97|   N|                N|  %|                   88.66|\n",
            "|R32OMS1LSDRCOB|          4|           27|         31|   Y|                N|  %|                    87.1|\n",
            "|R1ABJ5P5XAZ9AW|          5|          174|        187|   N|                N|  %|                   93.05|\n",
            "|R2RRFZ2YFSJ2OF|          5|           27|         27|   N|                Y|  %|                   100.0|\n",
            "|R19G3LWRFBHDX3|          1|            4|         42|   N|                Y|  %|                    9.52|\n",
            "+--------------+-----------+-------------+-----------+----+-----------------+---+------------------------+\n",
            "only showing top 20 rows\n",
            "\n"
          ]
        }
      ],
      "source": [
        "helpful_votes_percentage_df.show()"
      ]
    },
    {
      "cell_type": "code",
      "source": [
        "helpful_votes_percentage_df.select(concat(col('helpful_votes_percentage'),lit('%')))"
      ],
      "metadata": {
        "colab": {
          "base_uri": "https://localhost:8080/"
        },
        "id": "68D8xdqYQTqE",
        "outputId": "886f7d80-f87b-454d-b650-c0b949075fa7"
      },
      "execution_count": 42,
      "outputs": [
        {
          "output_type": "execute_result",
          "data": {
            "text/plain": [
              "DataFrame[concat(helpful_votes_percentage, %): string]"
            ]
          },
          "metadata": {},
          "execution_count": 42
        }
      ]
    },
    {
      "cell_type": "code",
      "source": [
        "helpful_votes_df = helpful_votes_percentage_df.select('*',concat(col('helpful_votes_percentage'),col('%')).alias('Percentage_helpful'))"
      ],
      "metadata": {
        "id": "g4aiqIjnQ5SC"
      },
      "execution_count": 77,
      "outputs": []
    },
    {
      "cell_type": "code",
      "source": [
        "helpful_votes_df_2 = helpful_votes_df.drop('%', 'helpful_votes_percentage')"
      ],
      "metadata": {
        "id": "eAhtcFlDR_wo"
      },
      "execution_count": 78,
      "outputs": []
    },
    {
      "cell_type": "code",
      "source": [
        "helpful_votes_df_2.show()"
      ],
      "metadata": {
        "colab": {
          "base_uri": "https://localhost:8080/"
        },
        "id": "NiZ4f22oS5tQ",
        "outputId": "18abac7d-8006-462f-fa50-6feae0e82837"
      },
      "execution_count": 79,
      "outputs": [
        {
          "output_type": "stream",
          "name": "stdout",
          "text": [
            "+--------------+-----------+-------------+-----------+----+-----------------+------------------+\n",
            "|     review_id|star_rating|helpful_votes|total_votes|vine|verified_purchase|Percentage_helpful|\n",
            "+--------------+-----------+-------------+-----------+----+-----------------+------------------+\n",
            "|R1B4753QMTD8ON|          5|           32|         32|   N|                N|            100.0%|\n",
            "|R28BVHOEL6GCHZ|          5|           21|         21|   N|                Y|            100.0%|\n",
            "|R27IB4BRKO71I0|          2|           16|         20|   N|                Y|             80.0%|\n",
            "| RJ86OW12Y4NRL|          5|          124|        128|   N|                Y|            96.88%|\n",
            "|R3KRABOWCH6ZE4|          1|           48|         65|   N|                Y|            73.85%|\n",
            "|R1OAKARA30DIWX|          4|           83|         89|   N|                Y|            93.26%|\n",
            "|R36LSV4WQ4VB1K|          5|           17|         22|   N|                N|            77.27%|\n",
            "|R18BTOE5UGN7UA|          5|           26|         28|   N|                Y|            92.86%|\n",
            "|R1DXLGDSK2WMLD|          4|           22|         22|   N|                N|            100.0%|\n",
            "| RZG2OHQ12YYZI|          5|           30|         31|   N|                Y|            96.77%|\n",
            "|R1ZPBQCT4DYE4Z|          1|           45|         51|   N|                Y|            88.24%|\n",
            "|R16KLPJUNC9GS7|          5|           20|         21|   N|                Y|            95.24%|\n",
            "|R3Q0414UJO4BDO|          1|           23|         28|   N|                Y|            82.14%|\n",
            "| RDHDT1Z4R8IOF|          1|           18|         20|   N|                Y|             90.0%|\n",
            "|R10BO7KWZNBGL1|          4|           23|         24|   N|                Y|            95.83%|\n",
            "|R1H6DQ1UXL6K8U|          5|           86|         97|   N|                N|            88.66%|\n",
            "|R32OMS1LSDRCOB|          4|           27|         31|   Y|                N|             87.1%|\n",
            "|R1ABJ5P5XAZ9AW|          5|          174|        187|   N|                N|            93.05%|\n",
            "|R2RRFZ2YFSJ2OF|          5|           27|         27|   N|                Y|            100.0%|\n",
            "|R19G3LWRFBHDX3|          1|            4|         42|   N|                Y|             9.52%|\n",
            "+--------------+-----------+-------------+-----------+----+-----------------+------------------+\n",
            "only showing top 20 rows\n",
            "\n"
          ]
        }
      ]
    },
    {
      "cell_type": "code",
      "execution_count": 80,
      "metadata": {
        "id": "bfjlT1NbT0Zc"
      },
      "outputs": [],
      "source": [
        "fifty_percent_df = helpful_votes_df_2.filter(helpful_votes_percentage_df.helpful_votes_percentage>50.00)"
      ]
    },
    {
      "cell_type": "code",
      "execution_count": 81,
      "metadata": {
        "colab": {
          "base_uri": "https://localhost:8080/"
        },
        "id": "R3bKbophUBci",
        "outputId": "ae9d8f3c-efe8-43e8-f47f-63579ed6eae3"
      },
      "outputs": [
        {
          "output_type": "stream",
          "name": "stdout",
          "text": [
            "+--------------+-----------+-------------+-----------+----+-----------------+------------------+\n",
            "|     review_id|star_rating|helpful_votes|total_votes|vine|verified_purchase|Percentage_helpful|\n",
            "+--------------+-----------+-------------+-----------+----+-----------------+------------------+\n",
            "|R1B4753QMTD8ON|          5|           32|         32|   N|                N|            100.0%|\n",
            "|R28BVHOEL6GCHZ|          5|           21|         21|   N|                Y|            100.0%|\n",
            "|R27IB4BRKO71I0|          2|           16|         20|   N|                Y|             80.0%|\n",
            "| RJ86OW12Y4NRL|          5|          124|        128|   N|                Y|            96.88%|\n",
            "|R3KRABOWCH6ZE4|          1|           48|         65|   N|                Y|            73.85%|\n",
            "|R1OAKARA30DIWX|          4|           83|         89|   N|                Y|            93.26%|\n",
            "|R36LSV4WQ4VB1K|          5|           17|         22|   N|                N|            77.27%|\n",
            "|R18BTOE5UGN7UA|          5|           26|         28|   N|                Y|            92.86%|\n",
            "|R1DXLGDSK2WMLD|          4|           22|         22|   N|                N|            100.0%|\n",
            "| RZG2OHQ12YYZI|          5|           30|         31|   N|                Y|            96.77%|\n",
            "|R1ZPBQCT4DYE4Z|          1|           45|         51|   N|                Y|            88.24%|\n",
            "|R16KLPJUNC9GS7|          5|           20|         21|   N|                Y|            95.24%|\n",
            "|R3Q0414UJO4BDO|          1|           23|         28|   N|                Y|            82.14%|\n",
            "| RDHDT1Z4R8IOF|          1|           18|         20|   N|                Y|             90.0%|\n",
            "|R10BO7KWZNBGL1|          4|           23|         24|   N|                Y|            95.83%|\n",
            "|R1H6DQ1UXL6K8U|          5|           86|         97|   N|                N|            88.66%|\n",
            "|R32OMS1LSDRCOB|          4|           27|         31|   Y|                N|             87.1%|\n",
            "|R1ABJ5P5XAZ9AW|          5|          174|        187|   N|                N|            93.05%|\n",
            "|R2RRFZ2YFSJ2OF|          5|           27|         27|   N|                Y|            100.0%|\n",
            "| RJ0T139KDORXP|          5|           23|         24|   N|                Y|            95.83%|\n",
            "+--------------+-----------+-------------+-----------+----+-----------------+------------------+\n",
            "only showing top 20 rows\n",
            "\n"
          ]
        }
      ],
      "source": [
        "fifty_percent_df.show()"
      ]
    },
    {
      "cell_type": "code",
      "source": [
        "fifty_percent_count = fifty_percent_df.count()\n",
        "fifty_percent_count"
      ],
      "metadata": {
        "colab": {
          "base_uri": "https://localhost:8080/"
        },
        "id": "ahP9PS4Kcfna",
        "outputId": "0b3666b1-b1fe-498b-8505-ba43a326cd05"
      },
      "execution_count": 95,
      "outputs": [
        {
          "output_type": "execute_result",
          "data": {
            "text/plain": [
              "61807"
            ]
          },
          "metadata": {},
          "execution_count": 95
        }
      ]
    },
    {
      "cell_type": "code",
      "source": [
        "fifty_percent_df = fifty_percent_df.filter"
      ],
      "metadata": {
        "id": "-kM8FCM1dRR8"
      },
      "execution_count": null,
      "outputs": []
    },
    {
      "cell_type": "code",
      "execution_count": 82,
      "metadata": {
        "id": "llzq6ic3ULcM"
      },
      "outputs": [],
      "source": [
        "paid_review_df = fifty_percent_df.filter(fifty_percent_df.vine =='Y')"
      ]
    },
    {
      "cell_type": "code",
      "source": [
        "paid_review_df.show()"
      ],
      "metadata": {
        "colab": {
          "base_uri": "https://localhost:8080/"
        },
        "id": "dqWYofMwfXKN",
        "outputId": "2e61f3f4-9438-4fd0-cbd3-126ca6777de0"
      },
      "execution_count": 83,
      "outputs": [
        {
          "output_type": "stream",
          "name": "stdout",
          "text": [
            "+--------------+-----------+-------------+-----------+----+-----------------+------------------+\n",
            "|     review_id|star_rating|helpful_votes|total_votes|vine|verified_purchase|Percentage_helpful|\n",
            "+--------------+-----------+-------------+-----------+----+-----------------+------------------+\n",
            "|R32OMS1LSDRCOB|          4|           27|         31|   Y|                N|             87.1%|\n",
            "|R2IPKK4I0XRCFR|          4|           16|         21|   Y|                N|            76.19%|\n",
            "| RXYYJ8SGI9IX6|          5|           36|         41|   Y|                N|             87.8%|\n",
            "|R1SAUBFC7T6JHC|          5|           73|         75|   Y|                N|            97.33%|\n",
            "|R329HVJKKHWSG3|          5|           59|         59|   Y|                N|            100.0%|\n",
            "| RZL21K50M52KW|          5|           22|         22|   Y|                N|            100.0%|\n",
            "|R24RC5J2D92SBE|          5|           19|         20|   Y|                N|             95.0%|\n",
            "|R1803HITBY7Y08|          4|           92|        104|   Y|                N|            88.46%|\n",
            "|R1888B8Z6QWYZ4|          4|           18|         25|   Y|                N|             72.0%|\n",
            "|R1S538NK2I5PRL|          5|           21|         22|   Y|                N|            95.45%|\n",
            "| RZDTBIS1289HJ|          5|           26|         28|   Y|                N|            92.86%|\n",
            "|R1MWLO2PFODMQ3|          5|           31|         32|   Y|                N|            96.88%|\n",
            "|R3O6EMC0ISQY92|          4|           25|         27|   Y|                N|            92.59%|\n",
            "|R1OGJY9TSNXXX3|          5|           19|         22|   Y|                N|            86.36%|\n",
            "| R3AOPWQNKJ6VE|          5|           25|         29|   Y|                N|            86.21%|\n",
            "|R1XJFRM9ANTVSZ|          4|           44|         46|   Y|                N|            95.65%|\n",
            "|R1VDF41NJMDGBT|          2|           23|         29|   Y|                N|            79.31%|\n",
            "|R2C0QDBA4NEEKD|          3|          173|        200|   Y|                N|             86.5%|\n",
            "|R3TUMV5DZL433H|          4|           29|         38|   Y|                N|            76.32%|\n",
            "| RVU1EA54INF9T|          5|           19|         21|   Y|                N|            90.48%|\n",
            "+--------------+-----------+-------------+-----------+----+-----------------+------------------+\n",
            "only showing top 20 rows\n",
            "\n"
          ]
        }
      ]
    },
    {
      "cell_type": "code",
      "source": [
        "unpaid_review_df = fifty_percent_df.filter(fifty_percent_df.vine =='N')"
      ],
      "metadata": {
        "id": "3EJmGBLGfbBk"
      },
      "execution_count": 84,
      "outputs": []
    },
    {
      "cell_type": "code",
      "source": [
        "unpaid_review_df.show()"
      ],
      "metadata": {
        "colab": {
          "base_uri": "https://localhost:8080/"
        },
        "id": "5WFF_9P0fkzy",
        "outputId": "a39c4d83-8715-4787-bddd-76595be8572b"
      },
      "execution_count": 85,
      "outputs": [
        {
          "output_type": "stream",
          "name": "stdout",
          "text": [
            "+--------------+-----------+-------------+-----------+----+-----------------+------------------+\n",
            "|     review_id|star_rating|helpful_votes|total_votes|vine|verified_purchase|Percentage_helpful|\n",
            "+--------------+-----------+-------------+-----------+----+-----------------+------------------+\n",
            "|R1B4753QMTD8ON|          5|           32|         32|   N|                N|            100.0%|\n",
            "|R28BVHOEL6GCHZ|          5|           21|         21|   N|                Y|            100.0%|\n",
            "|R27IB4BRKO71I0|          2|           16|         20|   N|                Y|             80.0%|\n",
            "| RJ86OW12Y4NRL|          5|          124|        128|   N|                Y|            96.88%|\n",
            "|R3KRABOWCH6ZE4|          1|           48|         65|   N|                Y|            73.85%|\n",
            "|R1OAKARA30DIWX|          4|           83|         89|   N|                Y|            93.26%|\n",
            "|R36LSV4WQ4VB1K|          5|           17|         22|   N|                N|            77.27%|\n",
            "|R18BTOE5UGN7UA|          5|           26|         28|   N|                Y|            92.86%|\n",
            "|R1DXLGDSK2WMLD|          4|           22|         22|   N|                N|            100.0%|\n",
            "| RZG2OHQ12YYZI|          5|           30|         31|   N|                Y|            96.77%|\n",
            "|R1ZPBQCT4DYE4Z|          1|           45|         51|   N|                Y|            88.24%|\n",
            "|R16KLPJUNC9GS7|          5|           20|         21|   N|                Y|            95.24%|\n",
            "|R3Q0414UJO4BDO|          1|           23|         28|   N|                Y|            82.14%|\n",
            "| RDHDT1Z4R8IOF|          1|           18|         20|   N|                Y|             90.0%|\n",
            "|R10BO7KWZNBGL1|          4|           23|         24|   N|                Y|            95.83%|\n",
            "|R1H6DQ1UXL6K8U|          5|           86|         97|   N|                N|            88.66%|\n",
            "|R1ABJ5P5XAZ9AW|          5|          174|        187|   N|                N|            93.05%|\n",
            "|R2RRFZ2YFSJ2OF|          5|           27|         27|   N|                Y|            100.0%|\n",
            "| RJ0T139KDORXP|          5|           23|         24|   N|                Y|            95.83%|\n",
            "|R30MVK7HP2DW91|          5|           84|        124|   N|                Y|            67.74%|\n",
            "+--------------+-----------+-------------+-----------+----+-----------------+------------------+\n",
            "only showing top 20 rows\n",
            "\n"
          ]
        }
      ]
    },
    {
      "cell_type": "code",
      "source": [
        "# number of paid reviews that are 5-stars\n",
        "paid_fivestar_count = paid_review_df.filter(paid_review_df.star_rating==5).count()\n",
        "paid_fivestar_count"
      ],
      "metadata": {
        "colab": {
          "base_uri": "https://localhost:8080/"
        },
        "id": "p5ehXFxBfrEc",
        "outputId": "d15d0f9a-f89c-452e-831a-1d9dbc6a6218"
      },
      "execution_count": 86,
      "outputs": [
        {
          "output_type": "execute_result",
          "data": {
            "text/plain": [
              "139"
            ]
          },
          "metadata": {},
          "execution_count": 86
        }
      ]
    },
    {
      "cell_type": "code",
      "source": [
        "# number of unpaid reviews that are 5-stars\n",
        "unpaid_fivestar_count = unpaid_review_df.filter(paid_review_df.star_rating==5).count()\n",
        "unpaid_fivestar_count"
      ],
      "metadata": {
        "colab": {
          "base_uri": "https://localhost:8080/"
        },
        "id": "ogOlLJ_ehM33",
        "outputId": "d6ec9e0c-7aa6-4a36-edb8-6afd230d716d"
      },
      "execution_count": 87,
      "outputs": [
        {
          "output_type": "execute_result",
          "data": {
            "text/plain": [
              "32646"
            ]
          },
          "metadata": {},
          "execution_count": 87
        }
      ]
    },
    {
      "cell_type": "code",
      "source": [
        "# total number of vine reivews\n",
        "total_paid_reviews = paid_review_df.count()\n",
        "total_paid_reviews"
      ],
      "metadata": {
        "colab": {
          "base_uri": "https://localhost:8080/"
        },
        "id": "dHdDJfeIiRc-",
        "outputId": "327a1834-7902-4fb2-abed-6a56c49e2561"
      },
      "execution_count": 73,
      "outputs": [
        {
          "output_type": "execute_result",
          "data": {
            "text/plain": [
              "333"
            ]
          },
          "metadata": {},
          "execution_count": 73
        }
      ]
    },
    {
      "cell_type": "code",
      "source": [
        "# percentage of five star vine reviews \n",
        "percentage_paid = (paid_fivestar_count/total_paid_reviews)*100\n",
        "percentage_paid"
      ],
      "metadata": {
        "colab": {
          "base_uri": "https://localhost:8080/"
        },
        "id": "YcDt4SoQlfup",
        "outputId": "882839e5-0774-444e-d017-15801680b451"
      },
      "execution_count": 98,
      "outputs": [
        {
          "output_type": "execute_result",
          "data": {
            "text/plain": [
              "41.74174174174174"
            ]
          },
          "metadata": {},
          "execution_count": 98
        }
      ]
    },
    {
      "cell_type": "code",
      "source": [
        "#total number of non-vine reviews\n",
        "total_unpaid_reviews = unpaid_review_df.count()\n",
        "total_unpaid_reviews"
      ],
      "metadata": {
        "colab": {
          "base_uri": "https://localhost:8080/"
        },
        "id": "7ft-yjL9orSM",
        "outputId": "f09c1624-e515-40f1-c6b8-c32e6b68dcca"
      },
      "execution_count": 75,
      "outputs": [
        {
          "output_type": "execute_result",
          "data": {
            "text/plain": [
              "61474"
            ]
          },
          "metadata": {},
          "execution_count": 75
        }
      ]
    },
    {
      "cell_type": "code",
      "source": [
        "percentage_unpaid= (unpaid_fivestar_count/total_unpaid_reviews)*100\n",
        "percentage_unpaid"
      ],
      "metadata": {
        "colab": {
          "base_uri": "https://localhost:8080/"
        },
        "id": "q3GyIvcSltMO",
        "outputId": "943709de-defc-4203-cf40-312ba9e1a57f"
      },
      "execution_count": 99,
      "outputs": [
        {
          "output_type": "execute_result",
          "data": {
            "text/plain": [
              "53.10537788333279"
            ]
          },
          "metadata": {},
          "execution_count": 99
        }
      ]
    }
  ],
  "metadata": {
    "colab": {
      "collapsed_sections": [],
      "name": "Vine_Review_Analysis.ipynb",
      "provenance": []
    },
    "kernelspec": {
      "display_name": "Python 3",
      "name": "python3"
    },
    "language_info": {
      "name": "python"
    }
  },
  "nbformat": 4,
  "nbformat_minor": 0
}